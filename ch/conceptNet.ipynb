{
 "cells": [
  {
   "cell_type": "code",
   "execution_count": 1,
   "metadata": {},
   "outputs": [],
   "source": [
    "print(\"start\");"
   ]
  },
  {
   "cell_type": "code",
   "execution_count": 2,
   "metadata": {},
   "outputs": [
    {
     "name": "stdout",
     "output_type": "stream",
     "text": [
      "Defaulting to user installation because normal site-packages is not writeable\n",
      "Requirement already satisfied: opencc-python-reimplemented in /user_data/.local/lib/python3.6/site-packages (0.1.6)\n",
      "\u001b[33mWARNING: You are using pip version 20.2.4; however, version 21.3.1 is available.\n",
      "You should consider upgrading via the '/usr/bin/python3 -m pip install --upgrade pip' command.\u001b[0m\n"
     ]
    }
   ],
   "source": [
    "!pip install opencc-python-reimplemented"
   ]
  },
  {
   "cell_type": "code",
   "execution_count": 3,
   "metadata": {},
   "outputs": [
    {
     "name": "stdout",
     "output_type": "stream",
     "text": [
      "投票當天需攜帶投票通知單、國民身分證及印章，若沒有收到投票通知書，可以向戶籍所在地鄰長查詢投票所，印章則是可以用簽名代替，至於身分證則是一定要攜帶。\n"
     ]
    }
   ],
   "source": [
    "from opencc import OpenCC\n",
    "\n",
    "cc = OpenCC('s2twp')\n",
    "text = '投票当天需携带投票通知单、国民身分证及印章，若没有收到投票通知书，可以向户籍所在地邻长查询投票所，印章则是可以用签名代替，至于身分证则是一定要携带。'\n",
    "\n",
    "print(cc.convert(text))"
   ]
  },
  {
   "cell_type": "code",
   "execution_count": 4,
   "metadata": {},
   "outputs": [],
   "source": [
    "import pandas as pd\n",
    "\n",
    "FILE = 'data/conceptNet/chineseconceptnet.csv'\n",
    "data = pd.read_csv(FILE, delimiter='\\t')\n",
    "data.columns = ['uri', 'relation', 'start', 'end', 'json']"
   ]
  },
  {
   "cell_type": "code",
   "execution_count": 5,
   "metadata": {},
   "outputs": [
    {
     "name": "stdout",
     "output_type": "stream",
     "text": [
      "                                             uri    relation       start  \\\n",
      "0             /a/[/r/Antonym/,/c/zh/上/,/c/zh/下/]  /r/Antonym     /c/zh/上   \n",
      "1           /a/[/r/Antonym/,/c/zh/上/a/,/c/zh/下/]  /r/Antonym   /c/zh/上/a   \n",
      "2           /a/[/r/Antonym/,/c/zh/上/r/,/c/zh/下/]  /r/Antonym   /c/zh/上/r   \n",
      "3           /a/[/r/Antonym/,/c/zh/上/v/,/c/zh/下/]  /r/Antonym   /c/zh/上/v   \n",
      "4         /a/[/r/Antonym/,/c/zh/上午/n/,/c/zh/下午/]  /r/Antonym  /c/zh/上午/n   \n",
      "...                                          ...         ...         ...   \n",
      "386561  /a/[/r/UsedFor/,/c/zh/鼻毛夾/,/c/zh/拔獅子鼻毛/]  /r/UsedFor   /c/zh/鼻毛夾   \n",
      "386562       /a/[/r/UsedFor/,/c/zh/鼻涕/,/c/zh/哭/]  /r/UsedFor    /c/zh/鼻涕   \n",
      "386563      /a/[/r/UsedFor/,/c/zh/鼻涕/,/c/zh/痛哭/]  /r/UsedFor    /c/zh/鼻涕   \n",
      "386564     /a/[/r/UsedFor/,/c/zh/１_筆/,/c/zh/工作/]  /r/UsedFor   /c/zh/１_筆   \n",
      "386565    /a/[/r/UsedFor/,/c/zh/ｍｐ_３/,/c/zh/聽歌/]  /r/UsedFor  /c/zh/ｍｐ_３   \n",
      "\n",
      "                end                                               json  \n",
      "0           /c/zh/下  {\"dataset\": \"/d/wiktionary/fr\", \"license\": \"cc...  \n",
      "1           /c/zh/下  {\"dataset\": \"/d/wiktionary/fr\", \"license\": \"cc...  \n",
      "2           /c/zh/下  {\"dataset\": \"/d/wiktionary/fr\", \"license\": \"cc...  \n",
      "3           /c/zh/下  {\"dataset\": \"/d/wiktionary/fr\", \"license\": \"cc...  \n",
      "4          /c/zh/下午  {\"dataset\": \"/d/wiktionary/fr\", \"license\": \"cc...  \n",
      "...             ...                                                ...  \n",
      "386561  /c/zh/拔獅子鼻毛  {\"dataset\": \"/d/conceptnet/4/zh\", \"license\": \"...  \n",
      "386562      /c/zh/哭  {\"dataset\": \"/d/conceptnet/4/zh\", \"license\": \"...  \n",
      "386563     /c/zh/痛哭  {\"dataset\": \"/d/conceptnet/4/zh\", \"license\": \"...  \n",
      "386564     /c/zh/工作  {\"dataset\": \"/d/conceptnet/4/zh\", \"license\": \"...  \n",
      "386565     /c/zh/聽歌  {\"dataset\": \"/d/conceptnet/4/zh\", \"license\": \"...  \n",
      "\n",
      "[386566 rows x 5 columns]\n"
     ]
    }
   ],
   "source": [
    "# 删除不只含有中文节点的关系\n",
    "data = data[data['start'].apply(lambda row: row.find('zh') > 0) & data['end'].apply(lambda row: row.find('zh') > 0)]\n",
    "data.index = range(data.shape[0])\n",
    "print(data)"
   ]
  },
  {
   "cell_type": "code",
   "execution_count": 6,
   "metadata": {},
   "outputs": [
    {
     "name": "stdout",
     "output_type": "stream",
     "text": [
      "                                             uri    relation       start  \\\n",
      "0             /a/[/r/Antonym/,/c/zh/上/,/c/zh/下/]  /r/Antonym     /c/zh/上   \n",
      "1           /a/[/r/Antonym/,/c/zh/上/a/,/c/zh/下/]  /r/Antonym   /c/zh/上/a   \n",
      "2           /a/[/r/Antonym/,/c/zh/上/r/,/c/zh/下/]  /r/Antonym   /c/zh/上/r   \n",
      "3           /a/[/r/Antonym/,/c/zh/上/v/,/c/zh/下/]  /r/Antonym   /c/zh/上/v   \n",
      "4         /a/[/r/Antonym/,/c/zh/上午/n/,/c/zh/下午/]  /r/Antonym  /c/zh/上午/n   \n",
      "...                                          ...         ...         ...   \n",
      "386561  /a/[/r/UsedFor/,/c/zh/鼻毛夾/,/c/zh/拔獅子鼻毛/]  /r/UsedFor   /c/zh/鼻毛夾   \n",
      "386562       /a/[/r/UsedFor/,/c/zh/鼻涕/,/c/zh/哭/]  /r/UsedFor    /c/zh/鼻涕   \n",
      "386563      /a/[/r/UsedFor/,/c/zh/鼻涕/,/c/zh/痛哭/]  /r/UsedFor    /c/zh/鼻涕   \n",
      "386564     /a/[/r/UsedFor/,/c/zh/１_筆/,/c/zh/工作/]  /r/UsedFor   /c/zh/１_筆   \n",
      "386565    /a/[/r/UsedFor/,/c/zh/ｍｐ_３/,/c/zh/聽歌/]  /r/UsedFor  /c/zh/ｍｐ_３   \n",
      "\n",
      "                end  weights  \n",
      "0           /c/zh/下      1.0  \n",
      "1           /c/zh/下      1.0  \n",
      "2           /c/zh/下      1.0  \n",
      "3           /c/zh/下      1.0  \n",
      "4          /c/zh/下午      1.0  \n",
      "...             ...      ...  \n",
      "386561  /c/zh/拔獅子鼻毛      1.0  \n",
      "386562      /c/zh/哭      2.0  \n",
      "386563     /c/zh/痛哭      1.0  \n",
      "386564     /c/zh/工作      1.0  \n",
      "386565     /c/zh/聽歌      1.0  \n",
      "\n",
      "[386566 rows x 5 columns]\n"
     ]
    }
   ],
   "source": [
    "# 从json列中提取权重信息\n",
    "import json\n",
    "\n",
    "weights = data['json'].apply(lambda row: json.loads(row)['weight'])\n",
    "data.pop('json')\n",
    "data.insert(4, 'weights', weights)\n",
    "print(data)"
   ]
  },
  {
   "cell_type": "code",
   "execution_count": 7,
   "metadata": {},
   "outputs": [],
   "source": [
    "# 查询起始节点\n",
    "def search(words, n=20):\n",
    "    result = data[data['start'].str.contains(cc.convert(words))]\n",
    "    topK_result = result.sort_values(\"weights\", ascending=False).head(n)\n",
    "    return topK_result"
   ]
  },
  {
   "cell_type": "code",
   "execution_count": 10,
   "metadata": {},
   "outputs": [
    {
     "name": "stdout",
     "output_type": "stream",
     "text": [
      "快樂導致開心\n",
      "快樂導致笑\n",
      "快樂導致大笑\n",
      "快樂,接下來,大笑\n",
      "快樂導致唱歌\n",
      "快樂是心情\n",
      "快樂,接下來,唱歌\n",
      "快樂是情緒\n",
      "快樂導致跳舞\n",
      "快樂是感覺\n",
      "快樂導致幸福\n",
      "快樂導致心情好\n",
      "快樂受到開心的驅動\n",
      "快樂,接下來,笑\n",
      "快樂導致微笑\n",
      "快樂導致滿足\n",
      "快樂導致高興\n",
      "快樂是幸福\n"
     ]
    }
   ],
   "source": [
    "template = {\n",
    "    '/r/RelatedTo': '和{}相关',\n",
    "    '/r/FormOf': '的形式为{}',\n",
    "    '/r/IsA': '是{}',\n",
    "    '/r/PartOf': '是{}的一部分',\n",
    "    '/r/HasA': '具有{}',\n",
    "    '/r/UsedFor': '用来{}',\n",
    "    '/r/CapableOf': '可以{}',\n",
    "    '/r/AtLocation': '在{}',\n",
    "    '/r/Causes': '导致{}',\n",
    "    '/r/HasSubevent': ',接下来,{}',\n",
    "    '/r/HasFirstSubevent': '，紧接着，{}',\n",
    "    '/r/HasLastSubevent': '的最后一步是{}',\n",
    "    '/r/HasPrerequisite': '的前提为{}',\n",
    "    '/r/HasProperty': '具有{}的属性',\n",
    "    '/r/MotivatedByGoal': '受到{}的驱动',\n",
    "    '/r/ObstructedBy': '受到{}的影响',\n",
    "    '/r/Desires': '想要{}',\n",
    "    '/r/CreatedBy': '被{}创造',\n",
    "    '/r/Synonym': '和{}同义',\n",
    "    '/r/Antonym': '和{}反义',\n",
    "    '/r/DistinctFrom': '和{}相区别',\n",
    "    '/r/DerivedFrom': '由{}导致',\n",
    "    '/r/SymbolOf': '象征着{}',\n",
    "    '/r/DefinedAs': '定义为{}',\n",
    "    '/r/MannerOf': '',\n",
    "    '/r/LocatedNear': '和{}相邻',\n",
    "    '/r/HasContext': '的背景是{}',\n",
    "    '/r/SimilarTo': '和{}相似',\n",
    "    '/r/EtymologicallyRelatedTo': '',\n",
    "    '/r/EtymologicallyDerivedFrom': '',\n",
    "    '/r/CausesDesire': '',\n",
    "    '/r/MadeOf': '由{}制成',\n",
    "    '/r/ReceivesAction': '',\n",
    "    '/r/ExternalURL': ''\n",
    "}\n",
    "\n",
    "\n",
    "def strip(str):\n",
    "    return str.split('/')[3]\n",
    "\n",
    "topK_result = search(\"快樂\", 20)\n",
    "for i in topK_result.index:\n",
    "    i = topK_result.loc[i]\n",
    "    if len(template[i['relation']]) > 0:\n",
    "        fanti = strip(i['start']) + template[i['relation']].format(strip(i['end']))\n",
    "        jianti = cc.convert(fanti)\n",
    "        print(jianti)"
   ]
  },
  {
   "cell_type": "code",
   "execution_count": 11,
   "metadata": {},
   "outputs": [
    {
     "name": "stdout",
     "output_type": "stream",
     "text": [
      "end\n"
     ]
    }
   ],
   "source": [
    "print('end')"
   ]
  }
 ],
 "metadata": {
  "kernelspec": {
   "display_name": "Python 3",
   "language": "python",
   "name": "python3"
  },
  "language_info": {
   "codemirror_mode": {
    "name": "ipython",
    "version": 3
   },
   "file_extension": ".py",
   "mimetype": "text/x-python",
   "name": "python",
   "nbconvert_exporter": "python",
   "pygments_lexer": "ipython3",
   "version": "3.6.9"
  }
 },
 "nbformat": 4,
 "nbformat_minor": 2
}
