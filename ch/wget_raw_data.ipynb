{
 "cells": [
  {
   "cell_type": "code",
   "execution_count": 1,
   "metadata": {},
   "outputs": [
    {
     "name": "stdout",
     "output_type": "stream",
     "text": [
      "start\n"
     ]
    }
   ],
   "source": [
    "print(\"start\")"
   ]
  },
  {
   "cell_type": "markdown",
   "metadata": {},
   "source": [
    "# 下載原始資料"
   ]
  },
  {
   "cell_type": "code",
   "execution_count": null,
   "metadata": {},
   "outputs": [],
   "source": [
    "%%bash\n",
    "\n",
    "# 建立data/cpnet存放ConceptNet\n",
    "mkdir -p data/\n",
    "mkdir -p data/cpnet/\n",
    "# download ConceptNet\n",
    "wget -nc -P data/cpnet/ https://s3.amazonaws.com/conceptnet/downloads/2018/edges/conceptnet-assertions-5.6.0.csv.gz\n",
    "cd data/cpnet/\n",
    "yes n | gzip -d conceptnet-assertions-5.6.0.csv.gz\n",
    "# download ConceptNet entity embedding\n",
    "wget https://csr.s3-us-west-1.amazonaws.com/tzw.ent.npy\n",
    "# 回到前前資料夾\n",
    "cd ../../\n",
    "\n",
    "\n",
    "\n",
    "# 建立data/csqa存放CommensenseQA dataset\n",
    "mkdir -p data/csqa/\n",
    "# download CommensenseQA dataset\n",
    "wget -nc -P data/csqa/ https://s3.amazonaws.com/commensenseqa/train_rand_split.jsonl\n",
    "wget -nc -P data/csqa/ https://s3.amazonaws.com/commensenseqa/dev_rand_split.jsonl\n",
    "wget -nc -P data/csqa/ https://s3.amazonaws.com/commensenseqa/test_rand_split_no_answers.jsonl\n",
    "\n",
    "# create output folders\n",
    "mkdir -p data/csqa/grounded/\n",
    "mkdir -p data/csqa/graph/\n",
    "mkdir -p data/csqa/statement/\n",
    "\n",
    "\n",
    "# 建立data/obqa存放OpenBookQA dataset\n",
    "# download OpenBookQA dataset\n",
    "wget -nc -P data/obqa/ https://s3-us-west-2.amazonaws.com/ai2-website/data/OpenBookQA-V1-Sep2018.zip\n",
    "yes n | unzip data/obqa/OpenBookQA-V1-Sep2018.zip -d data/obqa/\n",
    "\n",
    "# create output folders\n",
    "mkdir -p data/obqa/fairseq/official/\n",
    "mkdir -p data/obqa/grounded/\n",
    "mkdir -p data/obqa/graph/\n",
    "mkdir -p data/obqa/statement/"
   ]
  }
 ],
 "metadata": {
  "kernelspec": {
   "display_name": "Python 3",
   "language": "python",
   "name": "python3"
  },
  "language_info": {
   "codemirror_mode": {
    "name": "ipython",
    "version": 3
   },
   "file_extension": ".py",
   "mimetype": "text/x-python",
   "name": "python",
   "nbconvert_exporter": "python",
   "pygments_lexer": "ipython3",
   "version": "3.6.9"
  }
 },
 "nbformat": 4,
 "nbformat_minor": 2
}
