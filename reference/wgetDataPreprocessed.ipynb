{
 "cells": [
  {
   "cell_type": "code",
   "execution_count": 1,
   "metadata": {},
   "outputs": [
    {
     "name": "stdout",
     "output_type": "stream",
     "text": [
      "start\n"
     ]
    }
   ],
   "source": [
    "print(\"start\")"
   ]
  },
  {
   "cell_type": "code",
   "execution_count": 2,
   "metadata": {},
   "outputs": [],
   "source": [
    "# 將原先資料備份\n",
    "# !mv data data_old"
   ]
  },
  {
   "cell_type": "code",
   "execution_count": 3,
   "metadata": {},
   "outputs": [
    {
     "name": "stdout",
     "output_type": "stream",
     "text": [
      "--2021-10-09 08:54:17--  https://nlp.stanford.edu/projects/myasu/QAGNN/data_preprocessed_release.zip\n",
      "Resolving nlp.stanford.edu (nlp.stanford.edu)... 171.64.67.140\n",
      "Connecting to nlp.stanford.edu (nlp.stanford.edu)|171.64.67.140|:443... connected.\n",
      "HTTP request sent, awaiting response... 200 OK\n",
      "Length: 4226838278 (3.9G) [application/zip]\n",
      "Saving to: 'data_preprocessed_release.zip'\n",
      "\n",
      "data_preprocessed_r 100%[===================>]   3.94G   347KB/s    in 3h 42m  \n",
      "\n",
      "2021-10-09 12:36:42 (309 KB/s) - 'data_preprocessed_release.zip' saved [4226838278/4226838278]\n",
      "\n"
     ]
    }
   ],
   "source": [
    "# 下載所有預處理的資料\n",
    "!wget https://nlp.stanford.edu/projects/myasu/QAGNN/data_preprocessed_release.zip"
   ]
  },
  {
   "cell_type": "code",
   "execution_count": 4,
   "metadata": {},
   "outputs": [
    {
     "name": "stdout",
     "output_type": "stream",
     "text": [
      "Archive:  data_preprocessed_release.zip\n",
      "   creating: data_preprocessed_release/\n",
      "   creating: data_preprocessed_release/cpnet/\n",
      "  inflating: data_preprocessed_release/cpnet/conceptnet.en.unpruned.graph  \n",
      "  inflating: data_preprocessed_release/cpnet/conceptnet.en.csv  \n",
      "  inflating: data_preprocessed_release/cpnet/matcher_patterns.json  \n",
      "  inflating: data_preprocessed_release/cpnet/conceptnet-assertions-5.6.0.csv  \n",
      "  inflating: data_preprocessed_release/cpnet/conceptnet.en.pruned.graph  \n",
      "  inflating: data_preprocessed_release/cpnet/tzw.ent.npy  \n",
      "  inflating: data_preprocessed_release/cpnet/concept.txt  \n",
      "   creating: data_preprocessed_release/obqa/\n",
      "   creating: data_preprocessed_release/obqa/statement/\n",
      "  inflating: data_preprocessed_release/obqa/statement/train.statement.jsonl  \n",
      "  inflating: data_preprocessed_release/obqa/statement/dev-fact.statement.jsonl  \n",
      "  inflating: data_preprocessed_release/obqa/statement/dev.statement.jsonl  \n",
      "  inflating: data_preprocessed_release/obqa/statement/test-fact.statement.jsonl  \n",
      "  inflating: data_preprocessed_release/obqa/statement/train-fact.statement.jsonl  \n",
      "  inflating: data_preprocessed_release/obqa/statement/test.statement.jsonl  \n",
      "   creating: data_preprocessed_release/obqa/OpenBookQA-V1-Sep2018/\n",
      "   creating: data_preprocessed_release/obqa/OpenBookQA-V1-Sep2018/Data/\n",
      "   creating: data_preprocessed_release/obqa/OpenBookQA-V1-Sep2018/Data/Main/\n",
      "  inflating: data_preprocessed_release/obqa/OpenBookQA-V1-Sep2018/Data/Main/dev.jsonl  \n",
      "  inflating: data_preprocessed_release/obqa/OpenBookQA-V1-Sep2018/Data/Main/openbook.txt  \n",
      "  inflating: data_preprocessed_release/obqa/OpenBookQA-V1-Sep2018/Data/Main/test.jsonl  \n",
      "  inflating: data_preprocessed_release/obqa/OpenBookQA-V1-Sep2018/Data/Main/train.tsv  \n",
      "  inflating: data_preprocessed_release/obqa/OpenBookQA-V1-Sep2018/Data/Main/train.jsonl  \n",
      "  inflating: data_preprocessed_release/obqa/OpenBookQA-V1-Sep2018/Data/Main/test.tsv  \n",
      "  inflating: data_preprocessed_release/obqa/OpenBookQA-V1-Sep2018/Data/Main/dev.tsv  \n",
      "   creating: data_preprocessed_release/obqa/OpenBookQA-V1-Sep2018/Data/Additional/\n",
      "  inflating: data_preprocessed_release/obqa/OpenBookQA-V1-Sep2018/Data/Additional/test_complete.jsonl  \n",
      "  inflating: data_preprocessed_release/obqa/OpenBookQA-V1-Sep2018/Data/Additional/train_complete.jsonl  \n",
      "  inflating: data_preprocessed_release/obqa/OpenBookQA-V1-Sep2018/Data/Additional/crowdsourced-facts.txt  \n",
      "  inflating: data_preprocessed_release/obqa/OpenBookQA-V1-Sep2018/Data/Additional/dev_complete.jsonl  \n",
      "   creating: data_preprocessed_release/obqa/grounded/\n",
      "  inflating: data_preprocessed_release/obqa/grounded/train.grounded.jsonl  \n",
      "  inflating: data_preprocessed_release/obqa/grounded/test.grounded.jsonl  \n",
      "  inflating: data_preprocessed_release/obqa/grounded/dev.grounded.jsonl  \n",
      "   creating: data_preprocessed_release/obqa/graph/\n",
      "  inflating: data_preprocessed_release/obqa/graph/train.graph.adj.pk  \n",
      "  inflating: data_preprocessed_release/obqa/graph/train.graph.adj.pk.loaded_cache  \n",
      "  inflating: data_preprocessed_release/obqa/graph/dev.graph.adj.pk.loaded_cache  \n",
      "  inflating: data_preprocessed_release/obqa/graph/test.graph.adj.pk.loaded_cache  \n",
      "  inflating: data_preprocessed_release/obqa/graph/dev.graph.adj.pk  \n",
      "  inflating: data_preprocessed_release/obqa/graph/test.graph.adj.pk  \n",
      "   creating: data_preprocessed_release/csqa/\n",
      "   creating: data_preprocessed_release/csqa/grounded/\n",
      "  inflating: data_preprocessed_release/csqa/grounded/test.grounded.jsonl  \n",
      "  inflating: data_preprocessed_release/csqa/grounded/train.grounded.jsonl  \n",
      "  inflating: data_preprocessed_release/csqa/grounded/dev.grounded.jsonl  \n",
      "   creating: data_preprocessed_release/csqa/graph/\n",
      "  inflating: data_preprocessed_release/csqa/graph/test.graph.adj.pk  \n",
      "  inflating: data_preprocessed_release/csqa/graph/dev.graph.adj.pk.loaded_cache  \n",
      "  inflating: data_preprocessed_release/csqa/graph/train.graph.adj.pk  \n",
      "  inflating: data_preprocessed_release/csqa/graph/test.graph.adj.pk.loaded_cache  \n",
      "  inflating: data_preprocessed_release/csqa/graph/dev.graph.adj.pk  \n",
      "  inflating: data_preprocessed_release/csqa/graph/train.graph.adj.pk.loaded_cache  \n",
      "   creating: data_preprocessed_release/csqa/statement/\n",
      "  inflating: data_preprocessed_release/csqa/statement/dev.statement.jsonl  \n",
      "  inflating: data_preprocessed_release/csqa/statement/train.statement.jsonl  \n",
      "  inflating: data_preprocessed_release/csqa/statement/test.statement.jsonl  \n",
      "  inflating: data_preprocessed_release/csqa/train_rand_split.jsonl  \n",
      "  inflating: data_preprocessed_release/csqa/dev_rand_split.jsonl  \n",
      "  inflating: data_preprocessed_release/csqa/inhouse_split_qids.txt  \n",
      "  inflating: data_preprocessed_release/csqa/test_rand_split_no_answers.jsonl  \n"
     ]
    }
   ],
   "source": [
    "# 解壓縮\n",
    "!unzip data_preprocessed_release.zip"
   ]
  },
  {
   "cell_type": "code",
   "execution_count": 5,
   "metadata": {},
   "outputs": [],
   "source": [
    "# 搬移到data\n",
    "!mv data_preprocessed_release  data"
   ]
  },
  {
   "cell_type": "code",
   "execution_count": 6,
   "metadata": {},
   "outputs": [
    {
     "name": "stdout",
     "output_type": "stream",
     "text": [
      "end\n"
     ]
    }
   ],
   "source": [
    "print(\"end\")"
   ]
  }
 ],
 "metadata": {
  "kernelspec": {
   "display_name": "Python 3",
   "language": "python",
   "name": "python3"
  },
  "language_info": {
   "codemirror_mode": {
    "name": "ipython",
    "version": 3
   },
   "file_extension": ".py",
   "mimetype": "text/x-python",
   "name": "python",
   "nbconvert_exporter": "python",
   "pygments_lexer": "ipython3",
   "version": "3.6.9"
  }
 },
 "nbformat": 4,
 "nbformat_minor": 2
}
