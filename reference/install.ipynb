{
 "cells": [
  {
   "cell_type": "code",
   "execution_count": null,
   "id": "be58781f-d89d-4abe-9918-25d452bf7f53",
   "metadata": {},
   "outputs": [],
   "source": [
    "print('start')"
   ]
  },
  {
   "cell_type": "code",
   "execution_count": null,
   "id": "0d1d4871-de2f-44cf-984e-82524208bfa8",
   "metadata": {},
   "outputs": [],
   "source": [
    "#conda install pytorch==1.4.0 torchvision==0.5.0 cudatoolkit=10.1 -c pytorch\n",
    "!pip install torch==1.4.0 torchvision==0.5.0"
   ]
  },
  {
   "cell_type": "code",
   "execution_count": null,
   "id": "d439930d-0a7a-4c2f-9047-3112fca32038",
   "metadata": {},
   "outputs": [],
   "source": [
    "import torch"
   ]
  },
  {
   "cell_type": "code",
   "execution_count": null,
   "id": "285a88e5-e86e-4c49-a44b-ad2465bbba88",
   "metadata": {},
   "outputs": [],
   "source": [
    "print(torch.__version__)"
   ]
  },
  {
   "cell_type": "code",
   "execution_count": null,
   "id": "da35129f-77a6-4349-95d6-3a7087c0d7ff",
   "metadata": {},
   "outputs": [],
   "source": [
    "print(torch.version.cuda)"
   ]
  },
  {
   "cell_type": "code",
   "execution_count": null,
   "id": "576751c9-3412-4ceb-aa2f-b334358aef2c",
   "metadata": {},
   "outputs": [],
   "source": [
    "!pip install numpy==1.18.3 tqdm"
   ]
  },
  {
   "cell_type": "code",
   "execution_count": null,
   "id": "2879c857-ea5c-44c6-851d-f12f79665696",
   "metadata": {},
   "outputs": [],
   "source": [
    "!pip install transformers==2.0.0 nltk spacy==2.1.6"
   ]
  },
  {
   "cell_type": "code",
   "execution_count": null,
   "id": "34333dd7-be49-454c-81c1-0785e2fc987d",
   "metadata": {},
   "outputs": [],
   "source": [
    "!python -m spacy download en"
   ]
  },
  {
   "cell_type": "code",
   "execution_count": null,
   "id": "316cc068-8c28-4853-a032-3165f48c2555",
   "metadata": {},
   "outputs": [],
   "source": [
    "!pip install torch-scatter==2.0.4 -f https://pytorch-geometric.com/whl/torch-1.4.0+cu101.html"
   ]
  },
  {
   "cell_type": "code",
   "execution_count": null,
   "id": "ae7d1399-2e25-4ba6-bcd0-6a70181b9852",
   "metadata": {},
   "outputs": [],
   "source": [
    "!pip install torch-cluster==1.5.4 -f https://pytorch-geometric.com/whl/torch-1.4.0+cu101.html"
   ]
  },
  {
   "cell_type": "code",
   "execution_count": null,
   "id": "6affbb9f-8717-4403-b35c-c2a9fd88b81e",
   "metadata": {},
   "outputs": [],
   "source": [
    "!pip install torch-sparse==0.6.1 -f https://pytorch-geometric.com/whl/torch-1.4.0+cu101.html"
   ]
  },
  {
   "cell_type": "code",
   "execution_count": null,
   "id": "0a743b43-9859-448b-990e-0b8fd22340ff",
   "metadata": {},
   "outputs": [],
   "source": [
    "!pip install torch-spline-conv==1.2.0 -f https://pytorch-geometric.com/whl/torch-1.4.0+cu101.html"
   ]
  },
  {
   "cell_type": "code",
   "execution_count": null,
   "id": "7aa5b4bb-8aab-4972-aee6-20087d141e67",
   "metadata": {},
   "outputs": [],
   "source": [
    "!pip install torch-geometric==1.6.0 -f https://pytorch-geometric.com/whl/torch-1.4.0+cu101.html"
   ]
  },
  {
   "cell_type": "code",
   "execution_count": null,
   "id": "00aedd9e-f53c-46d2-945a-2fe255976c17",
   "metadata": {},
   "outputs": [],
   "source": [
    "print('end')"
   ]
  }
 ],
 "metadata": {
  "kernelspec": {
   "display_name": "Python 3 (ipykernel)",
   "language": "python",
   "name": "python3"
  },
  "language_info": {
   "codemirror_mode": {
    "name": "ipython",
    "version": 3
   },
   "file_extension": ".py",
   "mimetype": "text/x-python",
   "name": "python",
   "nbconvert_exporter": "python",
   "pygments_lexer": "ipython3",
   "version": "3.7.3"
  }
 },
 "nbformat": 4,
 "nbformat_minor": 5
}
