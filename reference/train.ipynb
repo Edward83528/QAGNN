{
 "cells": [
  {
   "cell_type": "code",
   "execution_count": 1,
   "id": "bcae4adf-84a2-4e37-be8c-0f83a61e97bc",
   "metadata": {},
   "outputs": [
    {
     "name": "stdout",
     "output_type": "stream",
     "text": [
      "start\n"
     ]
    }
   ],
   "source": [
    "print(\"start\")"
   ]
  },
  {
   "cell_type": "code",
   "execution_count": null,
   "id": "8cc74c52-12d9-47ab-99e0-f5fbb36cdd00",
   "metadata": {},
   "outputs": [],
   "source": [
    "!python qagnn.py --dataset csqa \\\n",
    "  --encoder roberta-large -k 5 --gnn_dim 200 -elr 1e-5 -dlr 1e-3 -bs 128 --seed 1 \\\n",
    "  --n_epochs 20 --max_epochs_before_stop 10  \\\n",
    "  --train_adj data/csqa/graph/train.graph.adj.pk \\\n",
    "  --dev_adj   data/csqa/graph/dev.graph.adj.pk \\\n",
    "  --test_adj  data/csqa/graph/test.graph.adj.pk \\\n",
    "  --train_statements  data/csqa/statement/train.statement.jsonl \\\n",
    "  --dev_statements  data/csqa/statement/dev.statement.jsonl \\\n",
    "  --test_statements  data/csqa/statement/test.statement.jsonl \\\n",
    "  --save_model \\\n",
    "  --save_dir saved_models/csqa/enc-roberta-large__k5__gnndim200__bs128__seed1 \\\n",
    "> train_csqa__enc-roberta-large__k5__gnndim200__bs128__seed1.log.txt"
   ]
  },
  {
   "cell_type": "code",
   "execution_count": null,
   "id": "708cdf9b-78e8-42aa-aa71-40cdf0a6999c",
   "metadata": {},
   "outputs": [],
   "source": [
    "print(\"end\")"
   ]
  }
 ],
 "metadata": {
  "kernelspec": {
   "display_name": "Python 3 (ipykernel)",
   "language": "python",
   "name": "python3"
  },
  "language_info": {
   "codemirror_mode": {
    "name": "ipython",
    "version": 3
   },
   "file_extension": ".py",
   "mimetype": "text/x-python",
   "name": "python",
   "nbconvert_exporter": "python",
   "pygments_lexer": "ipython3",
   "version": "3.7.11"
  }
 },
 "nbformat": 4,
 "nbformat_minor": 5
}
